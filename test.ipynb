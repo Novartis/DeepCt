{
 "cells": [
  {
   "cell_type": "code",
   "execution_count": null,
   "metadata": {
    "tags": []
   },
   "outputs": [],
   "source": [
    "import pandas as pd\n",
    "import numpy as np\n",
    "import sklearn\n",
    "import matplotlib as mpl\n",
    "import matplotlib.pyplot as plt\n",
    "import seaborn as sns\n",
    "import importlib\n",
    "import warnings\n",
    "import torch\n",
    "ct_utils = importlib.import_module('ct_utils');\n",
    "\n",
    "warnings.filterwarnings(\"ignore\");\n",
    "print('Pandas version:', pd.__version__);\n",
    "print('Numpy version:', np.__version__);\n",
    "print('MatplotLib version:', mpl.__version__);\n",
    "print('Sklearn version:', sklearn.__version__);\n",
    "print('Seaborn version:', sns.__version__);"
   ]
  },
  {
   "cell_type": "markdown",
   "metadata": {},
   "source": [
    "# Reading the datasets for train and test\n",
    "\n",
    "### The following things need to be specified:"
   ]
  },
  {
   "cell_type": "code",
   "execution_count": null,
   "metadata": {
    "tags": []
   },
   "outputs": [],
   "source": [
    "melloddy_emb_cols = [\"melloddy_emb_\" + str(i) for i in range(2000)]; #columns specifying the structural encoding\n",
    "\n",
    "time_cols = [ \"time_\" + str(i) for i in range(100)]; #timestamps of the measurments\n",
    "conc_cols_po = [ \"conc_po_\" + str(i) for i in range(100)]; # po concentration measurments in nM \n",
    "conc_cols_iv = [ \"conc_iv_\" + str(i) for i in range(100)]; # iv concentration measurments in nM \n",
    "\n",
    "target_features =  time_cols + conc_cols_po + conc_cols_iv;\n",
    "\n",
    "dose_column = \"Dose\" # mg/kg\n",
    "mass_column = \"Average Mass\" # g/mol\n",
    "species_colum = \"Species\" # Rat\n",
    "\n",
    "input_data = \"dummy.csv\"\n",
    "model_folder = \"tmp_folder\""
   ]
  },
  {
   "cell_type": "code",
   "execution_count": null,
   "metadata": {
    "tags": []
   },
   "outputs": [],
   "source": [
    "# load the data\n",
    "# each row is one experiment, i.e. one PK study\n",
    "df = pd.read_csv(input_data)"
   ]
  },
  {
   "cell_type": "code",
   "execution_count": null,
   "metadata": {
    "tags": []
   },
   "outputs": [],
   "source": [
    "df[\"Dose_trf\"] = ct_utils.recalc_dose(df[dose_column].to_numpy(dtype=np.float), df[mass_column].to_numpy(), df[species_colum].to_numpy())\n",
    "df = df.dropna(subset = time_cols + conc_cols_po + conc_cols_iv, how=\"all\")"
   ]
  },
  {
   "cell_type": "code",
   "execution_count": null,
   "metadata": {
    "tags": []
   },
   "outputs": [],
   "source": [
    "df_test = df.iloc[int(0.8*df.shape[0]):];\n",
    "df_train = df.iloc[:int(0.8*df.shape[0])];\n",
    "df_val = df_test.iloc[int(0.75*df_test.shape[0]):];\n",
    "df_test = df_test.iloc[:int(0.75*df_test.shape[0])];"
   ]
  },
  {
   "cell_type": "markdown",
   "metadata": {},
   "source": [
    "# Testing "
   ]
  },
  {
   "cell_type": "code",
   "execution_count": null,
   "metadata": {
    "tags": []
   },
   "outputs": [],
   "source": [
    "import predict\n",
    "\n",
    "#set the columns to be used as input features to the model (melloddy embeddings in this case). When additional features are used (e.g. the species) these have to be added here. Important: These have to be the same as used during training and also in the same order\n",
    "additional_features = []; #no additional features in this case\n",
    "predict.global_features = melloddy_emb_cols + additional_features"
   ]
  },
  {
   "cell_type": "markdown",
   "metadata": {
    "execution": {
     "iopub.execute_input": "2024-01-29T12:59:08.224395Z",
     "iopub.status.busy": "2024-01-29T12:59:08.223907Z",
     "iopub.status.idle": "2024-01-29T12:59:12.080232Z",
     "shell.execute_reply": "2024-01-29T12:59:12.078732Z",
     "shell.execute_reply.started": "2024-01-29T12:59:08.224376Z"
    },
    "tags": []
   },
   "source": [
    "To predict the C-t curves, you need to run the follwing:"
   ]
  },
  {
   "cell_type": "code",
   "execution_count": null,
   "metadata": {
    "tags": []
   },
   "outputs": [],
   "source": [
    "tmp_times, po, iv = predict.predict_ct_from_ensemble(df_test.copy(), df_test[\"Dose_trf\"].to_numpy(), model_folder, num_models=10, meas_times=None, num_cmpts=2);"
   ]
  },
  {
   "cell_type": "markdown",
   "metadata": {
    "execution": {
     "iopub.execute_input": "2024-01-29T12:59:12.089252Z",
     "iopub.status.busy": "2024-01-29T12:59:12.089087Z",
     "iopub.status.idle": "2024-01-29T12:59:15.685174Z",
     "shell.execute_reply": "2024-01-29T12:59:15.684280Z",
     "shell.execute_reply.started": "2024-01-29T12:59:12.089238Z"
    },
    "tags": []
   },
   "source": [
    "Now, let's plot a few examples"
   ]
  },
  {
   "cell_type": "code",
   "execution_count": null,
   "metadata": {
    "tags": []
   },
   "outputs": [],
   "source": [
    "f, axs = plt.subplots(2, 4, figsize=(20,5));\n",
    "axs = axs.ravel();\n",
    "plt.subplots_adjust(wspace = 0.5);\n",
    "plt.subplots_adjust(hspace = 0.5);\n",
    "\n",
    "i = 0;\n",
    "plot_i = 0;\n",
    "while plot_i<8:\n",
    "    \n",
    "    #ca_consts_pred_po = preds[i, :7];\n",
    "    #t_po_pred, po_curve_pred = ct_utils.ODE_solutions(ca_consts_pred_po, route=\"p.o.\", dose=df_test[\"Dose_trf\"].iloc[i]);\n",
    "    \n",
    "    t_po_pred = tmp_times[i, :];\n",
    "    po_curve_pred = po[i, :];\n",
    "    \n",
    "    po_curve_pred= po_curve_pred[t_po_pred<=24]\n",
    "    t_po_pred = t_po_pred[t_po_pred<=24]\n",
    "\n",
    "    t_meas = df_test[time_cols].iloc[i].to_numpy();\n",
    "    po_curve_true = df_test[conc_cols_po].iloc[i].to_numpy();\n",
    "\n",
    "    \n",
    "    if len(po_curve_true[~np.isnan(po_curve_true)]) == 0:\n",
    "        i = i + 1;\n",
    "        continue;\n",
    "        \n",
    "    sns.lineplot(x=t_po_pred, y=po_curve_pred, color=\"C1\", linewidth=2, ax=axs[plot_i], label=\"pred\");\n",
    "    sns.scatterplot(x=t_meas, y=po_curve_true, color=\"C1\", label=\"observed\", ax=axs[plot_i]);\n",
    "    axs[plot_i].set_yscale(\"log\");\n",
    "    axs[plot_i].set_xlabel(\"Time [hours]\");\n",
    "    axs[plot_i].set_ylabel(\"Concentration\");\n",
    "\n",
    "    i = i + 1;\n",
    "    plot_i = plot_i + 1;"
   ]
  },
  {
   "cell_type": "code",
   "execution_count": null,
   "metadata": {
    "tags": []
   },
   "outputs": [],
   "source": [
    "f, axs = plt.subplots(2, 4, figsize=(20,5));\n",
    "axs = axs.ravel();\n",
    "plt.subplots_adjust(wspace = 0.5);\n",
    "plt.subplots_adjust(hspace = 0.5);\n",
    "\n",
    "i = 0;\n",
    "plot_i = 0;\n",
    "while plot_i<8:\n",
    "    \n",
    "    #ca_consts_pred_po = preds[i, :7];\n",
    "    #t_po_pred, po_curve_pred = ct_utils.ODE_solutions(ca_consts_pred_po, route=\"p.o.\", dose=df_test[\"Dose_trf\"].iloc[i]);\n",
    "    t_iv_pred = tmp_times[i, :];\n",
    "    iv_curve_pred = iv[i, :];\n",
    "    \n",
    "    iv_curve_pred= iv_curve_pred[t_iv_pred<=24]\n",
    "    t_iv_pred = t_iv_pred[t_iv_pred<=24]\n",
    "\n",
    "    t_meas = df_test[time_cols].iloc[i].to_numpy();\n",
    "    iv_curve_true = df_test[conc_cols_iv].iloc[i].to_numpy();\n",
    "\n",
    "    \n",
    "    if len(iv_curve_true[~np.isnan(iv_curve_true)]) == 0:\n",
    "        i = i + 1;\n",
    "        continue;\n",
    "        \n",
    "    sns.lineplot(x=t_iv_pred, y=iv_curve_pred, color=\"C0\", linewidth=2, ax=axs[plot_i], label=\"pred\");\n",
    "    sns.scatterplot(x=t_meas, y=iv_curve_true, color=\"C0\", label=\"observed\", ax=axs[plot_i], s=20);\n",
    "    axs[plot_i].set_yscale(\"log\");\n",
    "    axs[plot_i].set_xlabel(\"Time [hours]\");\n",
    "    axs[plot_i].set_ylabel(\"Concentration\");\n",
    "    \n",
    "    i = i + 1;\n",
    "    plot_i = plot_i + 1;"
   ]
  },
  {
   "cell_type": "markdown",
   "metadata": {},
   "source": [
    "### Now compare to the readouts to from the predicted c-t curves to the derived ones"
   ]
  },
  {
   "cell_type": "markdown",
   "metadata": {
    "execution": {
     "iopub.execute_input": "2024-01-29T13:16:40.504221Z",
     "iopub.status.busy": "2024-01-29T13:16:40.503756Z",
     "iopub.status.idle": "2024-01-29T13:16:46.391913Z",
     "shell.execute_reply": "2024-01-29T13:16:46.390876Z",
     "shell.execute_reply.started": "2024-01-29T13:16:40.504202Z"
    },
    "tags": []
   },
   "source": [
    "Let's get the predictions of derived PK parameters using NCA from the predicted C-t curves"
   ]
  },
  {
   "cell_type": "code",
   "execution_count": null,
   "metadata": {
    "tags": []
   },
   "outputs": [],
   "source": [
    "derived_params_pred = predict.predict_derived_from_ensemble(df_test, df_test[\"Dose_trf\"].to_numpy(), model_folder, df_test[\"Species\"].to_numpy(), num_models=10, num_cmpts=2);\n",
    "cols = ['AUCinf_p.o._pred', 'Cmax_p.o._pred', \"t_half_po\", 'AUCinf_i.v._pred', \"Cmax_iv_pred\", 'T(12)_i.v._pred', 'In vivo CL_pred', 'Vss_pred', \"F_pred\", 'MRT_pred'];\n",
    "df_test[cols] = derived_params_pred;"
   ]
  },
  {
   "cell_type": "markdown",
   "metadata": {
    "execution": {
     "iopub.execute_input": "2024-01-29T13:16:40.504221Z",
     "iopub.status.busy": "2024-01-29T13:16:40.503756Z",
     "iopub.status.idle": "2024-01-29T13:16:46.391913Z",
     "shell.execute_reply": "2024-01-29T13:16:46.390876Z",
     "shell.execute_reply.started": "2024-01-29T13:16:40.504202Z"
    },
    "tags": []
   },
   "source": [
    "To test the performance of the predictions, you need to have the following readouts available in your dataset with the same column names:"
   ]
  },
  {
   "cell_type": "code",
   "execution_count": null,
   "metadata": {
    "tags": []
   },
   "outputs": [],
   "source": [
    "pk_parameter_cols = ['AUCinf_p.o.','Cmax_p.o.', 'AUCinf_i.v.','T(12)_i.v.', 'In vivo CL', 'Vss', \"F\", \"MRT\"];\n",
    "df_test[pk_parameter_cols] = np.random.rand(df_test.shape[0], len(pk_parameter_cols))"
   ]
  },
  {
   "cell_type": "code",
   "execution_count": null,
   "metadata": {
    "tags": []
   },
   "outputs": [],
   "source": [
    "df_test[\"AUMC_iv_pred\"] = df_test[\"MRT_pred\"]*df_test['AUCinf_i.v._pred']\n",
    "df_test[\"AUMC_iv\"] = df_test[\"MRT\"] + df_test[\"AUCinf_i.v.\"] #substraction because already logarithm\n",
    "df_test[\"F_pred\"] = (df_test['AUCinf_p.o._pred']/df_test['AUCinf_i.v._pred'])"
   ]
  },
  {
   "cell_type": "code",
   "execution_count": null,
   "metadata": {
    "tags": []
   },
   "outputs": [],
   "source": [
    "from scipy import stats\n",
    "\n",
    "pairs = [[\"AUCinf_i.v._pred\", \"AUCinf_i.v.\"], [\"AUMC_iv_pred\", \"AUMC_iv\"], ['T(12)_i.v._pred', 'T(12)_i.v.'], ['In vivo CL_pred', 'In vivo CL'], [\"Vss_pred\", \"Vss\"], ['MRT_pred', \"MRT\"]];\n",
    "\n",
    "f, axs = plt.subplots(1, len(pairs), figsize=(30, 5));\n",
    "\n",
    "axs = axs.ravel();\n",
    "plt.subplots_adjust(wspace = 0.5);\n",
    "plt.subplots_adjust(hspace = 0.5);\n",
    "\n",
    "for i, tmp_pair in enumerate(pairs):\n",
    "    \n",
    "    tmp_df = df_test.copy();\n",
    "    tmp_df[tmp_pair[0]] = np.log(df_test[tmp_pair[0]]) \n",
    "    #tmp_df[tmp_pair[1]] = np.log(df_test[tmp_pair[1]])\n",
    "\n",
    "    sns.kdeplot(data=tmp_df, x=tmp_pair[0], y=tmp_pair[1], ax=axs[i], color=\"black\");\n",
    "    #sns.regplot(data=tmp_df, x=tmp_pair[0], y=tmp_pair[1], ax=axs[i], color=\"black\", scatter_kws={\"s\":2});\n",
    "    sns.scatterplot(data=tmp_df, x=tmp_pair[0], y=tmp_pair[1], ax=axs[i], color=\"C1\", s=10);\n",
    "\n",
    "    from_curve = tmp_df[tmp_pair[0]].to_numpy();\n",
    "    print(len(from_curve[~np.isnan(from_curve)]));\n",
    "\n",
    "    drv = tmp_df[tmp_pair[1]].to_numpy();\n",
    "    print(len(drv[~np.isnan(drv)]))\n",
    "    \n",
    "    from_curve_filt = from_curve[(~pd.isnull(from_curve))  &  (~pd.isnull(drv))  & (~np.isinf(from_curve))  &  (~np.isinf(drv))];\n",
    "    drv_filt = drv[(~pd.isnull(from_curve)) & (~pd.isnull(drv)) & (~np.isinf(from_curve))  &  (~np.isinf(drv))];\n",
    "    \n",
    "    mini = np.min(from_curve_filt)\n",
    "    maxi = np.max(from_curve_filt)    \n",
    "    axs[i].plot(np.linspace(mini, maxi, 1000), np.linspace(mini, maxi, 1000), color=\"black\");\n",
    "    \n",
    "    spearman_r = stats.spearmanr(from_curve_filt, drv_filt, nan_policy=\"omit\");\n",
    "    pearson_r = stats.pearsonr(from_curve_filt, drv_filt);\n",
    "    mfc = np.exp(np.nanmedian(np.abs(from_curve_filt - drv_filt)));\n",
    "    rmse = np.sqrt(np.nanmean((from_curve_filt - drv_filt)**2));\n",
    "    r_2 = sklearn.metrics.r2_score(drv_filt, from_curve_filt);\n",
    "    \n",
    "    abs_log_errs = np.abs(from_curve_filt - drv_filt);\n",
    "    frac_2fold = float(len(abs_log_errs[np.exp(abs_log_errs)<=2.0]))/len(abs_log_errs);\n",
    "    frac_3fold = float(len(abs_log_errs[np.exp(abs_log_errs)<=3.0]))/len(abs_log_errs);\n",
    "\n",
    "    axs[i].set_title(\"Spearman R: %.2f \\n Pearson R: %.2f \\n  R**2: %.2f \\n MFC: %.2f \\n RMSE: %.2f \\n Frac. 2-fold: %.2f \\n \" % (spearman_r[0], pearson_r[0], r_2, mfc, rmse, frac_2fold));\n",
    "    axs[i].set_title(tmp_pair[1], fontsize=18);\n",
    "    axs[i].set_xlabel(\"predicted \" , fontsize=14);\n",
    "    axs[i].set_ylabel(\"measured \" , fontsize=14);\n",
    "    axs[i].tick_params(axis='both', which='major', labelsize=12);"
   ]
  },
  {
   "cell_type": "code",
   "execution_count": null,
   "metadata": {
    "tags": []
   },
   "outputs": [],
   "source": [
    "from scipy import stats\n",
    "pairs = [[\"AUCinf_p.o._pred\", \"AUCinf_p.o.\"], [\"Cmax_p.o._pred\", \"Cmax_p.o.\"]];\n",
    "\n",
    "f, axs = plt.subplots(1, len(pairs), figsize=(17, 5));\n",
    "axs = axs.ravel();\n",
    "plt.subplots_adjust(wspace = 0.5);\n",
    "plt.subplots_adjust(hspace = 0.5);\n",
    "\n",
    "for i, tmp_pair in enumerate(pairs):\n",
    "    \n",
    "    tmp_df = df_test.copy();\n",
    "    tmp_df[tmp_pair[0]] = np.log(df_test[tmp_pair[0]]) \n",
    "    #tmp_df[tmp_pair[1]] = np.log(df_test[tmp_pair[1]])\n",
    "\n",
    "    sns.kdeplot(data=tmp_df, x=tmp_pair[0], y=tmp_pair[1], ax=axs[i], color=\"black\");\n",
    "    #sns.regplot(data=tmp_df, x=tmp_pair[0], y=tmp_pair[1], ax=axs[i], color=\"black\", scatter_kws={\"s\":2});\n",
    "    sns.scatterplot(data=tmp_df, x=tmp_pair[0], y=tmp_pair[1], ax=axs[i], color=\"C0\", s=10);\n",
    "\n",
    "    from_curve = tmp_df[tmp_pair[0]].to_numpy();\n",
    "    print(len(from_curve[~np.isnan(from_curve)]));\n",
    "\n",
    "    drv = tmp_df[tmp_pair[1]].to_numpy();\n",
    "    print(len(drv[~np.isnan(drv)]))\n",
    "    \n",
    "    from_curve_filt = from_curve[(~pd.isnull(from_curve))  &  (~pd.isnull(drv))  & (~np.isinf(from_curve))  &  (~np.isinf(drv))];\n",
    "    drv_filt = drv[(~pd.isnull(from_curve)) & (~pd.isnull(drv)) & (~np.isinf(from_curve))  &  (~np.isinf(drv))];\n",
    "    \n",
    "    mini = np.min(from_curve_filt)\n",
    "    maxi = np.max(from_curve_filt)    \n",
    "    axs[i].plot(np.linspace(mini, maxi, 1000), np.linspace(mini, maxi, 1000), color=\"black\");\n",
    "    \n",
    "    spearman_r = stats.spearmanr(from_curve_filt, drv_filt, nan_policy=\"omit\");\n",
    "    pearson_r = stats.pearsonr(from_curve_filt, drv_filt);\n",
    "    mfc = np.exp(np.nanmedian(np.abs(from_curve_filt - drv_filt)));\n",
    "    rmse = np.sqrt(np.nanmean((from_curve_filt - drv_filt)**2));\n",
    "    r_2 = sklearn.metrics.r2_score(drv_filt, from_curve_filt);\n",
    "    \n",
    "    abs_log_errs = np.abs(from_curve_filt - drv_filt);\n",
    "    frac_2fold = float(len(abs_log_errs[np.exp(abs_log_errs)<=2.0]))/len(abs_log_errs);\n",
    "    frac_3fold = float(len(abs_log_errs[np.exp(abs_log_errs)<=3.0]))/len(abs_log_errs);\n",
    "\n",
    "    #axs[i].set_title(\"Spearman R: %.2f \\n Pearson R: %.2f \\n  R**2: %.2f \\n MFC: %.2f \\n RMSE: %.2f \\n Frac. 2-fold: %.2f \\n Frac. 3-fold: %.2f\" % (spearman_r[0], pearson_r[0], r_2, mfc, rmse, frac_2fold, frac_3fold));\n",
    "    axs[i].set_title(tmp_pair[1], fontsize=18);\n",
    "    axs[i].set_xlabel(\"predicted \" , fontsize=14);\n",
    "    axs[i].set_ylabel(\"measured \" , fontsize=14);\n",
    "    axs[i].tick_params(axis='both', which='major', labelsize=12);"
   ]
  },
  {
   "cell_type": "code",
   "execution_count": null,
   "metadata": {
    "tags": []
   },
   "outputs": [],
   "source": [
    "tmp_df = df_test.copy();\n",
    "tmp_df[\"F_pred\"] = np.log(df_test[\"F_pred\"])\n",
    "tmp_df = tmp_df[(~pd.isnull(tmp_df[\"F\"])) & (~pd.isnull(tmp_df[\"F_pred\"]))  &  (~np.isinf(tmp_df[\"F\"])) & (~np.isinf(tmp_df[\"F_pred\"])) ]\n",
    "\n",
    "sns.kdeplot(data=tmp_df, x=\"F_pred\", y=\"F\", color=\"black\");\n",
    "sns.scatterplot(data=tmp_df, x=\"F_pred\", y=\"F\", color=\"C2\");\n",
    "\n",
    "from_curve = tmp_df[\"F_pred\"].to_numpy();\n",
    "drv = tmp_df[\"F\"].to_numpy();\n",
    "from_curve_filt = from_curve[(~pd.isnull(from_curve))  &  (~pd.isnull(drv))  & (~np.isinf(from_curve))  &  (~np.isinf(drv))]\n",
    "drv_filt = drv[(~pd.isnull(from_curve))  &  (~pd.isnull(drv))  & (~np.isinf(from_curve))  &  (~np.isinf(drv))]\n",
    "    \n",
    "mini = np.min(from_curve_filt);\n",
    "maxi = np.max(from_curve_filt);\n",
    "\n",
    "plt.plot(np.linspace(mini, maxi, 1000), np.linspace(mini, maxi, 1000), color=\"black\");\n",
    "\n",
    "spearman_r = stats.spearmanr(from_curve_filt, drv_filt, nan_policy=\"omit\");\n",
    "pearson_r = stats.pearsonr(from_curve_filt, drv_filt);\n",
    "mfc = np.exp(np.nanmedian(np.abs(from_curve_filt - drv_filt)));\n",
    "rmse = np.sqrt(np.nanmean((from_curve_filt - drv_filt)**2));\n",
    "r_2 = sklearn.metrics.r2_score(drv_filt, from_curve_filt);\n",
    "abs_log_errs = np.abs(from_curve_filt - drv_filt)\n",
    "frac_2fold = float(len(abs_log_errs[np.exp(abs_log_errs)<=2.0]))/len(abs_log_errs);\n",
    "frac_3fold = float(len(abs_log_errs[np.exp(abs_log_errs)<=3.0]))/len(abs_log_errs);\n",
    "\n",
    "#plt.title(\"Spearman R: %.2f \\n Pearson R: %.2f \\n  R**2: %.2f \\n MFC: %.2f \\n RMSE: %.2f \\n Frac. 2-fold: %.2f \\n Frac. 3-fold: %.2f\" % (spearman_r[0], pearson_r[0], r_2, mfc, rmse, frac_2fold, frac_3fold));\n",
    "plt.title(\"F\", fontsize=18)\n",
    "plt.xlabel(\"predicted\", fontsize=12);\n",
    "plt.ylabel(\"measured\", fontsize=12);\n",
    "plt.tick_params(axis='both', which='major', labelsize=12);"
   ]
  },
  {
   "cell_type": "markdown",
   "metadata": {
    "execution": {
     "iopub.execute_input": "2023-08-03T11:51:15.530050Z",
     "iopub.status.busy": "2023-08-03T11:51:15.529737Z",
     "iopub.status.idle": "2023-08-03T11:51:16.108722Z",
     "shell.execute_reply": "2023-08-03T11:51:16.108213Z",
     "shell.execute_reply.started": "2023-08-03T11:51:15.530032Z"
    },
    "tags": []
   },
   "source": [
    "### R**2 of curve fit"
   ]
  },
  {
   "cell_type": "code",
   "execution_count": null,
   "metadata": {
    "tags": []
   },
   "outputs": [],
   "source": [
    "#get data\n",
    "meas_times = torch.tensor(df_test[time_cols].to_numpy());\n",
    "\n",
    "tmp_times, po_curve_pred, iv_curve_pred = predict.predict_ct_from_ensemble(df_test.copy(), df_test[\"Dose_trf\"].to_numpy(), \n",
    "                                                                           model_path, num_models=10, meas_times=meas_times, num_cmpts=2);\n",
    "\n",
    "po_curve_meas = df_test[conc_cols_po].to_numpy();\n",
    "iv_curve_meas = df_test[conc_cols_iv].to_numpy();\n",
    "\n",
    "#calc r**2\n",
    "r2_po = [];\n",
    "r2_iv = [];\n",
    "pearson_po = [];\n",
    "pearson_iv = [];\n",
    "spearman_po = [];\n",
    "spearman_iv = [];\n",
    "mfc_po = [];\n",
    "mfc_iv = [];\n",
    "\n",
    "for i in range(po_curve_meas.shape[0]):\n",
    "    #t = tmp_times[i,:];\n",
    "    tmp_po_meas = np.log( po_curve_meas[i,:]);\n",
    "    tmp_iv_meas = np.log(iv_curve_meas[i,:]);\n",
    "    \n",
    "    tmp_po_pred = np.log(po_curve_pred[i,:].numpy());\n",
    "    tmp_iv_pred = np.log(iv_curve_pred[i,:].numpy());\n",
    "    tmp_times = meas_times[i,:].numpy();\n",
    "    \n",
    "    tmp_po_meas_filt = tmp_po_meas[(~pd.isnull(tmp_po_meas))  &  (~pd.isnull(tmp_po_pred))  & (~np.isinf(tmp_po_meas))  &  (~np.isinf(tmp_po_pred))];\n",
    "    tmp_po_pred_filt = tmp_po_pred[(~pd.isnull(tmp_po_meas))  &  (~pd.isnull(tmp_po_pred))  & (~np.isinf(tmp_po_meas))  &  (~np.isinf(tmp_po_pred))];\n",
    "\n",
    "    tmp_iv_meas_filt = tmp_iv_meas[(~pd.isnull(tmp_iv_meas))  &  (~pd.isnull(tmp_iv_pred))  & (~np.isinf(tmp_iv_meas))  &  (~np.isinf(tmp_iv_pred))];\n",
    "    tmp_iv_pred_filt = tmp_iv_pred[(~pd.isnull(tmp_iv_meas))  &  (~pd.isnull(tmp_iv_pred))  & (~np.isinf(tmp_iv_meas))  &  (~np.isinf(tmp_iv_pred))];\n",
    "\n",
    "    tmp_times_iv = tmp_times[(~pd.isnull(tmp_iv_meas))  &  (~pd.isnull(tmp_iv_pred))  & (~np.isinf(tmp_iv_meas))  &  (~np.isinf(tmp_iv_pred))];\n",
    "    tmp_times_po = tmp_times[(~pd.isnull(tmp_po_meas))  &  (~pd.isnull(tmp_po_pred))  & (~np.isinf(tmp_po_meas))  &  (~np.isinf(tmp_po_pred))];\n",
    "    \n",
    "    if len(tmp_po_meas_filt)>5:\n",
    "        r2_po.append(sklearn.metrics.r2_score(tmp_po_meas_filt, tmp_po_pred_filt));\n",
    "        pearson_po.append(stats.pearsonr(tmp_po_meas_filt, tmp_po_pred_filt)[0]);\n",
    "        spearman_po.append(stats.spearmanr(tmp_po_meas_filt, tmp_po_pred_filt)[0]);\n",
    "        mfc_po.append(np.exp(np.nanmedian(np.abs(tmp_po_meas_filt - tmp_po_pred_filt))));\n",
    "\n",
    "    if len(tmp_iv_meas_filt)>5:\n",
    "        r2_iv.append(sklearn.metrics.r2_score(tmp_iv_meas_filt, tmp_iv_pred_filt));\n",
    "        pearson_iv.append(stats.pearsonr(tmp_iv_meas_filt, tmp_iv_pred_filt)[0]);\n",
    "        spearman_iv.append(stats.spearmanr(tmp_iv_meas_filt, tmp_iv_pred_filt)[0]);\n",
    "        mfc_iv.append(np.exp(np.nanmedian(np.abs(tmp_iv_meas_filt - tmp_iv_pred_filt))));\n",
    "\n",
    "df_plot = pd.DataFrame();\n",
    "df_plot[\"R**2\"] = list(r2_po) + list(r2_iv);\n",
    "df_plot[\"Pearson R\"] = list(pearson_po) + list(pearson_iv);\n",
    "df_plot[\"Spearman R\"] = list(spearman_po) + list(spearman_iv);\n",
    "df_plot[\"MFC\"] = list(mfc_po) + list(mfc_iv);\n",
    "df_plot[\"Route\"] = len(r2_po)*[\"p.o.\"] + len(r2_iv)*[\"i.v.\"];"
   ]
  },
  {
   "cell_type": "code",
   "execution_count": null,
   "metadata": {
    "tags": []
   },
   "outputs": [],
   "source": [
    "f, axs = plt.subplots(1, 4, figsize=(25, 5));\n",
    "axs = axs.ravel();\n",
    "plt.subplots_adjust(wspace = 0.3);\n",
    "plt.subplots_adjust(hspace = 0.3);\n",
    "\n",
    "#plotting\n",
    "sns.histplot(data=df_plot, hue=\"Route\", x=\"R**2\", multiple=\"dodge\", bins=20, ax=axs[0]);\n",
    "sns.histplot(data=df_plot, hue=\"Route\", x=\"Pearson R\", multiple=\"dodge\", bins=20, ax=axs[1]);\n",
    "sns.histplot(data=df_plot, hue=\"Route\", x=\"Spearman R\", multiple=\"dodge\", bins=20, ax=axs[2]);\n",
    "sns.histplot(data=df_plot, hue=\"Route\", x=\"MFC\", multiple=\"dodge\", bins=20, ax=axs[3], log_scale=True);"
   ]
  },
  {
   "cell_type": "code",
   "execution_count": null,
   "metadata": {
    "tags": []
   },
   "outputs": [],
   "source": [
    "f, axs = plt.subplots(1, 4, figsize=(25, 5));\n",
    "axs = axs.ravel();\n",
    "plt.subplots_adjust(wspace = 0.3);\n",
    "plt.subplots_adjust(hspace = 0.3);\n",
    "\n",
    "#plotting\n",
    "sns.boxenplot(data=df_plot, x=\"Route\", y=\"R**2\",  ax=axs[0], showfliers=0);\n",
    "sns.stripplot(data=df_plot, x=\"Route\", y=\"R**2\",  ax=axs[0], color=\"black\", s=2);\n",
    "\n",
    "sns.boxenplot(data=df_plot, x=\"Route\", y=\"Pearson R\",  ax=axs[1], showfliers=0);\n",
    "sns.stripplot(data=df_plot, x=\"Route\", y=\"Pearson R\",  ax=axs[1], color=\"black\", s=2);\n",
    "\n",
    "sns.boxenplot(data=df_plot, x=\"Route\", y=\"Spearman R\", ax=axs[2], showfliers=0);\n",
    "sns.stripplot(data=df_plot, x=\"Route\", y=\"Spearman R\",  ax=axs[2], color=\"black\", s=2);\n",
    "\n",
    "sns.boxenplot(data=df_plot, x=\"Route\", y=\"MFC\",ax=axs[3], showfliers=0);\n",
    "sns.stripplot(data=df_plot, x=\"Route\", y=\"MFC\",  ax=axs[3], color=\"black\", s=2);\n",
    "axs[3].set_yscale(\"log\");"
   ]
  },
  {
   "cell_type": "markdown",
   "metadata": {},
   "source": [
    "## Predict multiple dosing schemes"
   ]
  },
  {
   "cell_type": "code",
   "execution_count": null,
   "metadata": {
    "tags": []
   },
   "outputs": [],
   "source": [
    "def get_multiDose_ct_profile(index, dosing_times, doses):\n",
    "\n",
    "\n",
    "    times = np.arange(0,dosing_times[-1]+2, 0.1);\n",
    "    final_po_curve = times*0.0;\n",
    "    final_iv_curve = times*0.0;\n",
    "\n",
    "    for i, tmp_dose_time in enumerate(dosing_times):\n",
    "\n",
    "        #setup the input dataframe\n",
    "        tmp_df = df_test.iloc[ind:(ind+1)];\n",
    "        \n",
    "        tmp_df[\"Dose\"] = [doses[i]];\n",
    "        tmp_df[\"Dose_trf\"] = ct_utils.recalc_dose(tmp_df[\"Dose\"].to_numpy(dtype=np.float), tmp_df[\"Average Mass\"].to_numpy(), tmp_df[\"Species\"].to_numpy());\n",
    "\n",
    "        #predict the Ct profile for the current dose\n",
    "        tmp_times, po, iv = predict.predict_ct_from_ensemble(tmp_df.copy(), tmp_df[\"Dose_trf\"].to_numpy(), model_folder, \n",
    "                                                         num_models=10, meas_times=torch.tensor([times]), num_cmpts=2);\n",
    "\n",
    "        for j in range(len(times)):\n",
    "            if (j + int(tmp_dose_time/0.1)) >= len(times):\n",
    "                break;\n",
    "\n",
    "            final_po_curve[j + int(tmp_dose_time/0.1)] = final_po_curve[j + int(tmp_dose_time/0.1)] + po[0][j];\n",
    "            final_iv_curve[j + int(tmp_dose_time/0.1)] = final_iv_curve[j + int(tmp_dose_time/0.1)] + iv[0][j];\n",
    "            \n",
    "    return times, final_po_curve, final_iv_curve;"
   ]
  },
  {
   "cell_type": "code",
   "execution_count": null,
   "metadata": {
    "tags": []
   },
   "outputs": [],
   "source": [
    "ind = 1256;\n",
    "dosing_times = np.arange(0,121, 12)\n",
    "doses = [1]*len(dosing_times);\n",
    "\n",
    "times, final_po_curve, final_iv_curve = get_multiDose_ct_profile(ind, dosing_times, doses);\n",
    "\n",
    "f, axs = plt.subplots(1, 2, figsize=(10, 4));\n",
    "axs = axs.ravel();\n",
    "plt.subplots_adjust(wspace = 0.2);\n",
    "plt.subplots_adjust(hspace = 0.2);\n",
    "\n",
    "axs[0].plot(times, final_po_curve, linewidth=5);\n",
    "axs[1].plot(times, final_iv_curve, linewidth=5);\n",
    "\n",
    "axs[0].set_xlabel(\"Time [h]\");\n",
    "axs[0].set_ylabel(\"Concentration [h]\");\n",
    "\n",
    "axs[1].set_xlabel(\"Time [h]\");\n",
    "axs[1].set_ylabel(\"Concentration [h]\")"
   ]
  },
  {
   "cell_type": "code",
   "execution_count": null,
   "metadata": {
    "tags": []
   },
   "outputs": [],
   "source": [
    "ind = 1256;\n",
    "dosing_times = np.arange(0,121, 6)\n",
    "doses = [1]*len(dosing_times);\n",
    "\n",
    "times, final_po_curve, final_iv_curve = get_multiDose_ct_profile(ind, dosing_times, doses);\n",
    "\n",
    "f, axs = plt.subplots(1, 2, figsize=(10, 4));\n",
    "axs = axs.ravel();\n",
    "plt.subplots_adjust(wspace = 0.2);\n",
    "plt.subplots_adjust(hspace = 0.2);\n",
    "\n",
    "axs[0].plot(times, final_po_curve, linewidth=5);\n",
    "axs[1].plot(times, final_iv_curve, linewidth=5);\n",
    "\n",
    "axs[0].set_xlabel(\"Time [h]\");\n",
    "axs[0].set_ylabel(\"Concentration\");\n",
    "\n",
    "axs[1].set_xlabel(\"Time [h]\");\n",
    "axs[1].set_ylabel(\"Concentration\");"
   ]
  },
  {
   "cell_type": "code",
   "execution_count": null,
   "metadata": {
    "tags": []
   },
   "outputs": [],
   "source": [
    "ind = 1256;\n",
    "dosing_times = np.arange(0,121, 24)\n",
    "doses = [1]*len(dosing_times);\n",
    "\n",
    "times, final_po_curve, final_iv_curve = get_multiDose_ct_profile(ind, dosing_times, doses);\n",
    "\n",
    "f, axs = plt.subplots(1, 2, figsize=(10, 4));\n",
    "axs = axs.ravel();\n",
    "plt.subplots_adjust(wspace = 0.2);\n",
    "plt.subplots_adjust(hspace = 0.2);\n",
    "\n",
    "axs[0].plot(times, final_po_curve, linewidth=5);\n",
    "axs[1].plot(times, final_iv_curve, linewidth=5);\n",
    "\n",
    "axs[0].set_xlabel(\"Time [h]\");\n",
    "axs[0].set_ylabel(\"Concentration\");\n",
    "\n",
    "axs[1].set_xlabel(\"Time [h]\");\n",
    "axs[1].set_ylabel(\"Concentration\");"
   ]
  },
  {
   "cell_type": "code",
   "execution_count": null,
   "metadata": {},
   "outputs": [],
   "source": []
  }
 ],
 "metadata": {
  "@deathbeds/ipydrawio": {
   "xml": ""
  },
  "kernelspec": {
   "display_name": "pk_ct",
   "language": "python",
   "name": "pk_ct"
  },
  "language_info": {
   "codemirror_mode": {
    "name": "ipython",
    "version": 3
   },
   "file_extension": ".py",
   "mimetype": "text/x-python",
   "name": "python",
   "nbconvert_exporter": "python",
   "pygments_lexer": "ipython3",
   "version": "3.8.18"
  }
 },
 "nbformat": 4,
 "nbformat_minor": 4
}
